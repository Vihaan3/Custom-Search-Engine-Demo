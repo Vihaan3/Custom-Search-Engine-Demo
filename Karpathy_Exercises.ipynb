{
  "nbformat": 4,
  "nbformat_minor": 0,
  "metadata": {
    "colab": {
      "provenance": [],
      "authorship_tag": "ABX9TyNJj2+Jmu7RDRwThdjxg5DH",
      "include_colab_link": true
    },
    "kernelspec": {
      "name": "python3",
      "display_name": "Python 3"
    },
    "language_info": {
      "name": "python"
    }
  },
  "cells": [
    {
      "cell_type": "markdown",
      "metadata": {
        "id": "view-in-github",
        "colab_type": "text"
      },
      "source": [
        "<a href=\"https://colab.research.google.com/github/Vihaan3/Custom-Search-Engine-Demo/blob/main/Karpathy_Exercises.ipynb\" target=\"_parent\"><img src=\"https://colab.research.google.com/assets/colab-badge.svg\" alt=\"Open In Colab\"/></a>"
      ]
    },
    {
      "cell_type": "code",
      "execution_count": 10,
      "metadata": {
        "id": "o3T22s0u7c-2"
      },
      "outputs": [],
      "source": [
        "import torch\n",
        "import torch.nn.functional as F"
      ]
    },
    {
      "cell_type": "markdown",
      "source": [
        "### Makemore Part 1"
      ],
      "metadata": {
        "id": "vaV7JpebFNni"
      }
    },
    {
      "cell_type": "code",
      "source": [
        "words = open('/names.txt', 'r').read().splitlines()\n",
        "chars = sorted(list(set(''.join(words))))\n",
        "stoi = {s:i+1 for i,s in enumerate(chars)}\n",
        "stoi['.'] = 0\n",
        "itos = {i:s for s,i in stoi.items()}\n",
        "g = torch.Generator().manual_seed(2147483647)"
      ],
      "metadata": {
        "id": "cYQ-ghbh-lkj"
      },
      "execution_count": 59,
      "outputs": []
    },
    {
      "cell_type": "markdown",
      "source": [
        "#### A pared down version of the neural network in the original video."
      ],
      "metadata": {
        "id": "5O8dCeUjEvTX"
      }
    },
    {
      "cell_type": "code",
      "source": [
        "xs, ys = [], []\n",
        "for w in words:\n",
        "  chs = ['.'] + list(w) + ['.']\n",
        "  for ch1, ch2 in zip(chs, chs[1:]):\n",
        "    ix1 = stoi[ch1]\n",
        "    ix2 = stoi[ch2]\n",
        "    xs.append(ix1)\n",
        "    ys.append(ix2)\n",
        "xs = torch.tensor(xs)\n",
        "ys = torch.tensor(ys)\n",
        "num = xs.nelement()\n",
        "print('number of examples: ', num)\n",
        "\n",
        "# initialize the 'network'\n",
        "W = torch.randn((27, 27), generator=g, requires_grad=True)"
      ],
      "metadata": {
        "colab": {
          "base_uri": "https://localhost:8080/"
        },
        "id": "XHJ69VG2-3-5",
        "outputId": "7eefae46-a6a0-48d6-f891-077dbab106a7"
      },
      "execution_count": 60,
      "outputs": [
        {
          "output_type": "stream",
          "name": "stdout",
          "text": [
            "number of examples:  228146\n"
          ]
        }
      ]
    },
    {
      "cell_type": "code",
      "source": [
        "for k in range(100):\n",
        "\n",
        "  # forward pass\n",
        "  xenc = F.one_hot(xs, num_classes=27).float() # input to the network: one-hot encoding\n",
        "  logits = xenc @ W # predict log-counts\n",
        "  counts = logits.exp() # counts, equivalent to N\n",
        "  probs = counts / counts.sum(1, keepdims=True) # probabilities for next character\n",
        "  loss = -probs[torch.arange(num), ys].log().mean() + 0.01*(W**2).mean()\n",
        "\n",
        "  if k % 10 == 0:\n",
        "    print(loss.item())\n",
        "\n",
        "  # backward pass\n",
        "  W.grad = None # set to zero the gradient\n",
        "  loss.backward()\n",
        "\n",
        "  # update\n",
        "  W.data += -50 * W.grad\n",
        "\n",
        "print(loss.item())"
      ],
      "metadata": {
        "colab": {
          "base_uri": "https://localhost:8080/"
        },
        "id": "Cd8AoNQq_DmV",
        "outputId": "769191c8-7937-4add-9d92-124c35f30f51"
      },
      "execution_count": 61,
      "outputs": [
        {
          "output_type": "stream",
          "name": "stdout",
          "text": [
            "3.7686190605163574\n",
            "2.696505546569824\n",
            "2.5822560787200928\n",
            "2.5413522720336914\n",
            "2.52126407623291\n",
            "2.509854555130005\n",
            "2.5027060508728027\n",
            "2.4978790283203125\n",
            "2.4944381713867188\n",
            "2.4918932914733887\n",
            "2.4901304244995117\n"
          ]
        }
      ]
    },
    {
      "cell_type": "code",
      "source": [
        "for i in range(5):\n",
        "\n",
        "  out = []\n",
        "  ix = 0\n",
        "  while True:\n",
        "\n",
        "    xenc = F.one_hot(torch.tensor([ix]), num_classes=27).float()\n",
        "    logits = xenc @ W # predict log-counts\n",
        "    counts = logits.exp() # counts, equivalent to N\n",
        "    p = counts / counts.sum(1, keepdims=True) # probabilities for next character\n",
        "\n",
        "    ix = torch.multinomial(p, num_samples=1, replacement=True, generator=g).item()\n",
        "    out.append(itos[ix])\n",
        "    if ix == 0:\n",
        "      break\n",
        "  print(''.join(out))"
      ],
      "metadata": {
        "colab": {
          "base_uri": "https://localhost:8080/"
        },
        "id": "YzEzeefFBMzK",
        "outputId": "2572909a-1d8f-4636-ad91-9a12d6c0a3c8"
      },
      "execution_count": 62,
      "outputs": [
        {
          "output_type": "stream",
          "name": "stdout",
          "text": [
            "junide.\n",
            "janasah.\n",
            "p.\n",
            "cfay.\n",
            "a.\n"
          ]
        }
      ]
    },
    {
      "cell_type": "markdown",
      "source": [
        "Loss: 2.49\n",
        "\n",
        "Text Generated:\n",
        "- junide.\n",
        "- janasah.\n",
        "- p.\n",
        "- cfay.\n",
        "- a."
      ],
      "metadata": {
        "id": "jCIVSnC1XhBa"
      }
    },
    {
      "cell_type": "markdown",
      "source": [
        "#### E01: Trigram\n",
        "I wasn't sure at first whether increasing the right way to go was increasing the size of the input dimension or adding another dimension so I decided to try both. Also, note that my code here is meant to resemble Andrej Karpathy's, which is intentonally a little bit hacky for educational purposes. This is not what a \"production\" implementation would look like."
      ],
      "metadata": {
        "id": "QtFUxfxYFvu3"
      }
    },
    {
      "cell_type": "markdown",
      "source": [
        "##### V1: Additional Dimension"
      ],
      "metadata": {
        "id": "CUgtOrSzXOhq"
      }
    },
    {
      "cell_type": "code",
      "source": [
        "import einops"
      ],
      "metadata": {
        "id": "zTxpJB96HY4Y"
      },
      "execution_count": 63,
      "outputs": []
    },
    {
      "cell_type": "code",
      "source": [
        "xs, ys = [], []\n",
        "for w in words:\n",
        "  chs = ['.'] + list(w) + ['.', '.']\n",
        "  for ch1, ch2, ch3 in zip(chs, chs[1:], chs[2:]):\n",
        "    ix1 = stoi[ch1]\n",
        "    ix2 = stoi[ch2]\n",
        "    ix3 = stoi[ch3]\n",
        "    xs.append((ix1, ix2))\n",
        "    ys.append(ix3)\n",
        "xs = torch.tensor(xs)\n",
        "ys = torch.tensor(ys)\n",
        "num = xs.nelement() // 2 # dividing by 2 now because the shape of xs has changed\n",
        "print('number of examples: ', num)\n",
        "\n",
        "W1 = torch.randn((27, 27, 27), generator=g, requires_grad=True) # 3D now"
      ],
      "metadata": {
        "colab": {
          "base_uri": "https://localhost:8080/"
        },
        "id": "tGFiTcvTDSK3",
        "outputId": "44ec45b5-c519-4822-fcfb-98f8292a1f7d"
      },
      "execution_count": 94,
      "outputs": [
        {
          "output_type": "stream",
          "name": "stdout",
          "text": [
            "number of examples:  228146\n"
          ]
        }
      ]
    },
    {
      "cell_type": "code",
      "source": [
        "for k in range(100):\n",
        "\n",
        "  # forward pass\n",
        "  xenc = F.one_hot(xs[:, 0], num_classes=27).float() # character 1\n",
        "  xenc2 = F.one_hot(xs[:, 1], num_classes=27).float() # character 2\n",
        "  logits = einops.einsum(xenc, W1, xenc2, \"b i, i j k, b j -> b k\") # you might have to ask GPT about this line. Understand what's happening but don't stress it, it'll make more sense soon.\n",
        "  counts = logits.exp()\n",
        "  probs = counts / counts.sum(1, keepdims=True)\n",
        "  loss = -probs[torch.arange(num), ys].log().mean() + 0.01*(W1**2).mean()\n",
        "\n",
        "  if k % 10 == 0:\n",
        "    print(loss.item())\n",
        "\n",
        "  # backward pass\n",
        "  W1.grad = None # set to zero the gradient\n",
        "  loss.backward()\n",
        "\n",
        "  # update\n",
        "  W1.data += -50 * W1.grad\n",
        "\n",
        "print(loss.item())"
      ],
      "metadata": {
        "colab": {
          "base_uri": "https://localhost:8080/"
        },
        "id": "r_lZNzfIF9Pc",
        "outputId": "7a2918f1-5bcd-4098-c68c-29964eb1e97a"
      },
      "execution_count": 95,
      "outputs": [
        {
          "output_type": "stream",
          "name": "stdout",
          "text": [
            "3.6517415046691895\n",
            "2.8801517486572266\n",
            "2.6203973293304443\n",
            "2.471735715866089\n",
            "2.373619794845581\n",
            "2.3028182983398438\n",
            "2.2486462593078613\n",
            "2.205559015274048\n",
            "2.1703648567199707\n",
            "2.1410269737243652\n",
            "2.1184768676757812\n"
          ]
        }
      ]
    },
    {
      "cell_type": "code",
      "source": [
        "for i in range(5):\n",
        "\n",
        "  out = []\n",
        "  # couldn't decide on good var names so I thought I would be funny\n",
        "  uno = 0\n",
        "  dos = 0\n",
        "  while True:\n",
        "\n",
        "    xenc = F.one_hot(torch.tensor(uno), num_classes=27).float().unsqueeze(0)\n",
        "    xenc2 = F.one_hot(torch.tensor(dos), num_classes=27).float().unsqueeze(0)\n",
        "    logits = einops.einsum(xenc, W1, xenc2, \"b i, i j k, b j -> b k\")\n",
        "    counts = logits.exp()\n",
        "    p = counts / counts.sum(1, keepdims=True)\n",
        "\n",
        "    uno = dos\n",
        "    dos = torch.multinomial(p, num_samples=1, replacement=True, generator=g).item()\n",
        "    out.append(itos[dos])\n",
        "    if dos == 0:\n",
        "      break\n",
        "  print(''.join(out))"
      ],
      "metadata": {
        "colab": {
          "base_uri": "https://localhost:8080/"
        },
        "id": "1A6imbZyChjH",
        "outputId": "0a91b829-6f47-4866-c3a5-320bbf2ec7da"
      },
      "execution_count": 99,
      "outputs": [
        {
          "output_type": "stream",
          "name": "stdout",
          "text": [
            "ni.\n",
            "makestobfzwruvbvjxpxdznleanczqwmdemyw.\n",
            "mkzdnseira.\n",
            "na.\n",
            "umjoebvsdfyhoujfodpmvuhdgdohupy.\n"
          ]
        }
      ]
    },
    {
      "cell_type": "markdown",
      "source": [
        "Loss: 2.12\n",
        "\n",
        "Text Generated\n",
        "- coud\n",
        "- qipny\n",
        "- hafijcpydhrdqzieqiupfdcaanvinegnhiyah\n",
        "- dae\n",
        "- hatea\n",
        "\n",
        "Lower loss but also lower quality outputs than the original. Seems like overfitting.\n",
        "\n",
        "Curiously, when I train for 1000 steps instead, I get these results:\n",
        "\n",
        "Loss: 1.49\n",
        "\n",
        "Text Generated\n",
        "- ouwade\n",
        "- ilyasid\n",
        "- prelay\n",
        "- ocnzi\n",
        "- ohr\n",
        "\n",
        "These seem much higher quality than the original.  "
      ],
      "metadata": {
        "id": "MYv7E7g7X2ih"
      }
    },
    {
      "cell_type": "markdown",
      "source": [
        "##### V2: Bigger input dimension"
      ],
      "metadata": {
        "id": "78MMEDwyYDZq"
      }
    },
    {
      "cell_type": "code",
      "source": [
        "xs, ys = [], []\n",
        "for w in words:\n",
        "  chs = ['.'] + list(w) + ['.', '.']\n",
        "  for ch1, ch2, ch3 in zip(chs, chs[1:], chs[2:]):\n",
        "    ix1 = stoi[ch1]\n",
        "    ix2 = stoi[ch2]\n",
        "    ix3 = stoi[ch3]\n",
        "    xs.append((ix1, ix2))\n",
        "    ys.append(ix3)\n",
        "xs = torch.tensor(xs)\n",
        "ys = torch.tensor(ys)\n",
        "num = xs.nelement() // 2 # dividing by 2 now because the shape of xs has changed\n",
        "print('number of examples: ', num)\n",
        "\n",
        "W2 = torch.randn((27*2, 27), generator=g, requires_grad=True) # still 2D but now the input dimension is double"
      ],
      "metadata": {
        "colab": {
          "base_uri": "https://localhost:8080/"
        },
        "id": "jYKl5J4FQkPf",
        "outputId": "d2d2ddd7-89ba-4e4c-86e1-707b44341b98"
      },
      "execution_count": 103,
      "outputs": [
        {
          "output_type": "stream",
          "name": "stdout",
          "text": [
            "number of examples:  228146\n"
          ]
        }
      ]
    },
    {
      "cell_type": "code",
      "source": [
        "for k in range(100):\n",
        "\n",
        "  # forward pass\n",
        "  '''Edit: a cleaner implementation would be:\n",
        "  xenc = F.one_hot(xs, num_classes=27).float()\n",
        "  logits = xenc.view(-1, 27*2) @ W2\n",
        "  '''\n",
        "  xenc = F.one_hot(xs[:, 0], num_classes=27).float() # character 1\n",
        "  xenc2 = F.one_hot(xs[:, 1], num_classes=27).float() # character 2\n",
        "  xcat = torch.cat ((xenc, xenc2), 1)\n",
        "  logits = xcat @ W2\n",
        "  counts = logits.exp()\n",
        "  probs = counts / counts.sum(1, keepdims=True)\n",
        "  loss = -probs[torch.arange(num), ys].log().mean() + 0.01*(W2**2).mean()\n",
        "\n",
        "  if k % 10 == 0:\n",
        "    print(loss.item())\n",
        "\n",
        "  # backward pass\n",
        "  W2.grad = None # set to zero the gradient\n",
        "  loss.backward()\n",
        "\n",
        "  # update\n",
        "  W2.data += -50 * W2.grad\n",
        "\n",
        "print(loss.item())"
      ],
      "metadata": {
        "colab": {
          "base_uri": "https://localhost:8080/"
        },
        "id": "FeXOFDNFREcc",
        "outputId": "0e2ab2d6-0fbf-438e-c01b-1ac3c42536b8"
      },
      "execution_count": 105,
      "outputs": [
        {
          "output_type": "stream",
          "name": "stdout",
          "text": [
            "4.5374555587768555\n",
            "2.16996693611145\n",
            "2.063832998275757\n",
            "2.020979404449463\n",
            "1.9984627962112427\n",
            "1.9848086833953857\n",
            "1.9757133722305298\n",
            "1.9692426919937134\n",
            "1.9644166231155396\n",
            "1.960689663887024\n",
            "1.958001732826233\n"
          ]
        }
      ]
    },
    {
      "cell_type": "code",
      "source": [
        "for i in range(5):\n",
        "\n",
        "  out = []\n",
        "  # couldn't decide on good var names so I thought I would be funny\n",
        "  uno = 0\n",
        "  dos = 0\n",
        "  while True:\n",
        "\n",
        "    xenc = F.one_hot(torch.tensor(uno), num_classes=27).float().unsqueeze(0)\n",
        "    xenc2 = F.one_hot(torch.tensor(dos), num_classes=27).float().unsqueeze(0)\n",
        "    xcat = torch.cat((xenc, xenc2), 1)\n",
        "    logits = xcat @ W2\n",
        "    counts = logits.exp()\n",
        "    p = counts / counts.sum(1, keepdims=True)\n",
        "\n",
        "    uno = dos\n",
        "    dos = torch.multinomial(p, num_samples=1, replacement=True, generator=g).item()\n",
        "    out.append(itos[dos])\n",
        "    if dos == 0:\n",
        "      break\n",
        "  print(''.join(out))"
      ],
      "metadata": {
        "colab": {
          "base_uri": "https://localhost:8080/"
        },
        "id": "IslDp05-b7hK",
        "outputId": "aecc8c0f-db42-401a-c2dd-7387fdde6f10"
      },
      "execution_count": 98,
      "outputs": [
        {
          "output_type": "stream",
          "name": "stdout",
          "text": [
            ".\n",
            ".\n",
            "mefilayniylenn.\n",
            ".\n",
            ".\n"
          ]
        }
      ]
    },
    {
      "cell_type": "markdown",
      "source": [
        "Loss: 1.95\n",
        "\n",
        "Text Generated:\n",
        "- blank\n",
        "- dena\n",
        "- blank\n",
        "- blank\n",
        "- blank\n",
        "\n",
        "Much lower loss but also lower quality generations."
      ],
      "metadata": {
        "id": "okXuaqsNYBSX"
      }
    },
    {
      "cell_type": "markdown",
      "source": [],
      "metadata": {
        "id": "mKnyq9YBlC8l"
      }
    },
    {
      "cell_type": "markdown",
      "source": [
        "#### E02: Splitting\n",
        "Basic implementation of the splitting. Play around by yourself to answer Andrej Karpathy's question."
      ],
      "metadata": {
        "id": "RimEFXMtlIAl"
      }
    },
    {
      "cell_type": "code",
      "source": [
        "import random\n",
        "\n",
        "random.shuffle(words)\n",
        "\n",
        "num_words = len(words)\n",
        "train_split = int(0.8*num_words)\n",
        "dev_split = int(0.9*num_words)\n",
        "\n",
        "train_words = words[:train_split]\n",
        "dev_words = words[train_split:dev_split]\n",
        "test_words = words[dev_split:]\n",
        "\n",
        "print(f\"Train Size: {len(train_words)}\")\n",
        "print(f\"Dev Size: {len(dev_words)}\")\n",
        "print(f\"Test Size: {len(test_words)}\")"
      ],
      "metadata": {
        "colab": {
          "base_uri": "https://localhost:8080/"
        },
        "id": "cZbFeEeqlcY9",
        "outputId": "10196e81-b621-4023-cf0f-dfe9cb272ba0"
      },
      "execution_count": 108,
      "outputs": [
        {
          "output_type": "stream",
          "name": "stdout",
          "text": [
            "Train Size: 25626\n",
            "Dev Size: 3203\n",
            "Test Size: 3204\n"
          ]
        }
      ]
    },
    {
      "cell_type": "markdown",
      "source": [
        "#### E05: F.cross_entropy\n"
      ],
      "metadata": {
        "id": "mYnWd1dKoVr2"
      }
    },
    {
      "cell_type": "code",
      "source": [
        "# From the original. You can turn snippet 1 into snippet 2 using F.cross_entropy\n",
        "xenc = F.one_hot(xs, num_classes=27).float() # input to the network: one-hot encoding\n",
        "logits = xenc @ W # predict log-counts\n",
        "counts = logits.exp() # counts, equivalent to N\n",
        "probs = counts / counts.sum(1, keepdims=True) # probabilities for next character\n",
        "loss = -probs[torch.arange(num), ys].log().mean() + 0.01*(W**2).mean()\n",
        "\n",
        "# F.cross_entropy\n",
        "xenc = F.one_hot(xs, num_classes=27).float()\n",
        "logits = xenc @ W\n",
        "loss = F.cross_entropy(logits, ys) + 0.01*(W**2).mean()\n",
        "\n",
        "# Why you want to use F.cross_entropy instead: https://youtu.be/TCH_1BHY58I?t=1979"
      ],
      "metadata": {
        "id": "gJzaErXQo44z"
      },
      "execution_count": null,
      "outputs": []
    },
    {
      "cell_type": "markdown",
      "source": [
        "### Makemore Part 2: MLP"
      ],
      "metadata": {
        "id": "-hV5_mYJrtPM"
      }
    },
    {
      "cell_type": "markdown",
      "source": [
        "#### E03"
      ],
      "metadata": {
        "id": "m35M4cMlr5-K"
      }
    },
    {
      "cell_type": "markdown",
      "source": [
        "### Makemore Part 3: Activations and Gradients, Batchnorm"
      ],
      "metadata": {
        "id": "2rGv1wZBr-eq"
      }
    },
    {
      "cell_type": "markdown",
      "source": [
        "#### E02"
      ],
      "metadata": {
        "id": "JaHCxhFVsMhx"
      }
    },
    {
      "cell_type": "markdown",
      "source": [
        "### GPT"
      ],
      "metadata": {
        "id": "E5LWZ72fwLXE"
      }
    },
    {
      "cell_type": "markdown",
      "source": [
        "#### EX1"
      ],
      "metadata": {
        "id": "rGrSdm6pwOjk"
      }
    },
    {
      "cell_type": "markdown",
      "source": [
        "#### EX2"
      ],
      "metadata": {
        "id": "zn_V3GW9wTEY"
      }
    },
    {
      "cell_type": "markdown",
      "source": [
        "#### EX3"
      ],
      "metadata": {
        "id": "6rdCXt4hwTVw"
      }
    },
    {
      "cell_type": "markdown",
      "source": [
        "#### EX4"
      ],
      "metadata": {
        "id": "D5DmGbLEwThn"
      }
    }
  ]
}