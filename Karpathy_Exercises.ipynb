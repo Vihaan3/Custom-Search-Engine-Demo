{
  "nbformat": 4,
  "nbformat_minor": 0,
  "metadata": {
    "colab": {
      "provenance": [],
      "gpuType": "T4",
      "authorship_tag": "ABX9TyPYqsrxOZ9omEn7IgG4BoXy",
      "include_colab_link": true
    },
    "kernelspec": {
      "name": "python3",
      "display_name": "Python 3"
    },
    "language_info": {
      "name": "python"
    },
    "accelerator": "GPU"
  },
  "cells": [
    {
      "cell_type": "markdown",
      "metadata": {
        "id": "view-in-github",
        "colab_type": "text"
      },
      "source": [
        "<a href=\"https://colab.research.google.com/github/Vihaan3/Custom-Search-Engine-Demo/blob/main/Karpathy_Exercises.ipynb\" target=\"_parent\"><img src=\"https://colab.research.google.com/assets/colab-badge.svg\" alt=\"Open In Colab\"/></a>"
      ]
    },
    {
      "cell_type": "code",
      "execution_count": null,
      "metadata": {
        "id": "o3T22s0u7c-2"
      },
      "outputs": [],
      "source": [
        "import torch\n",
        "import torch.nn.functional as F"
      ]
    },
    {
      "cell_type": "markdown",
      "source": [
        "### Makemore Part 1"
      ],
      "metadata": {
        "id": "vaV7JpebFNni"
      }
    },
    {
      "cell_type": "code",
      "source": [
        "words = open('/content/names.txt', 'r').read().splitlines()\n",
        "chars = sorted(list(set(''.join(words))))\n",
        "stoi = {s:i+1 for i,s in enumerate(chars)}\n",
        "stoi['.'] = 0\n",
        "itos = {i:s for s,i in stoi.items()}\n",
        "g = torch.Generator().manual_seed(2147483647)"
      ],
      "metadata": {
        "id": "cYQ-ghbh-lkj"
      },
      "execution_count": null,
      "outputs": []
    },
    {
      "cell_type": "markdown",
      "source": [
        "#### A pared down version of the neural network in the original video."
      ],
      "metadata": {
        "id": "5O8dCeUjEvTX"
      }
    },
    {
      "cell_type": "code",
      "source": [
        "xs, ys = [], []\n",
        "for w in words:\n",
        "  chs = ['.'] + list(w) + ['.']\n",
        "  for ch1, ch2 in zip(chs, chs[1:]):\n",
        "    ix1 = stoi[ch1]\n",
        "    ix2 = stoi[ch2]\n",
        "    xs.append(ix1)\n",
        "    ys.append(ix2)\n",
        "xs = torch.tensor(xs)\n",
        "ys = torch.tensor(ys)\n",
        "num = xs.nelement()\n",
        "print('number of examples: ', num)\n",
        "\n",
        "# initialize the 'network'\n",
        "W = torch.randn((27, 27), generator=g, requires_grad=True)"
      ],
      "metadata": {
        "colab": {
          "base_uri": "https://localhost:8080/"
        },
        "id": "XHJ69VG2-3-5",
        "outputId": "7eefae46-a6a0-48d6-f891-077dbab106a7"
      },
      "execution_count": null,
      "outputs": [
        {
          "output_type": "stream",
          "name": "stdout",
          "text": [
            "number of examples:  228146\n"
          ]
        }
      ]
    },
    {
      "cell_type": "code",
      "source": [
        "for k in range(100):\n",
        "\n",
        "  # forward pass\n",
        "  xenc = F.one_hot(xs, num_classes=27).float() # input to the network: one-hot encoding\n",
        "  logits = xenc @ W # predict log-counts\n",
        "  counts = logits.exp() # counts, equivalent to N\n",
        "  probs = counts / counts.sum(1, keepdims=True) # probabilities for next character\n",
        "  loss = -probs[torch.arange(num), ys].log().mean() + 0.01*(W**2).mean()\n",
        "\n",
        "  if k % 10 == 0:\n",
        "    print(loss.item())\n",
        "\n",
        "  # backward pass\n",
        "  W.grad = None # set to zero the gradient\n",
        "  loss.backward()\n",
        "\n",
        "  # update\n",
        "  W.data += -50 * W.grad\n",
        "\n",
        "print(loss.item())"
      ],
      "metadata": {
        "colab": {
          "base_uri": "https://localhost:8080/"
        },
        "id": "Cd8AoNQq_DmV",
        "outputId": "769191c8-7937-4add-9d92-124c35f30f51"
      },
      "execution_count": null,
      "outputs": [
        {
          "output_type": "stream",
          "name": "stdout",
          "text": [
            "3.7686190605163574\n",
            "2.696505546569824\n",
            "2.5822560787200928\n",
            "2.5413522720336914\n",
            "2.52126407623291\n",
            "2.509854555130005\n",
            "2.5027060508728027\n",
            "2.4978790283203125\n",
            "2.4944381713867188\n",
            "2.4918932914733887\n",
            "2.4901304244995117\n"
          ]
        }
      ]
    },
    {
      "cell_type": "code",
      "source": [
        "for i in range(5):\n",
        "\n",
        "  out = []\n",
        "  ix = 0\n",
        "  while True:\n",
        "\n",
        "    xenc = F.one_hot(torch.tensor([ix]), num_classes=27).float()\n",
        "    logits = xenc @ W # predict log-counts\n",
        "    counts = logits.exp() # counts, equivalent to N\n",
        "    p = counts / counts.sum(1, keepdims=True) # probabilities for next character\n",
        "\n",
        "    ix = torch.multinomial(p, num_samples=1, replacement=True, generator=g).item()\n",
        "    out.append(itos[ix])\n",
        "    if ix == 0:\n",
        "      break\n",
        "  print(''.join(out))"
      ],
      "metadata": {
        "colab": {
          "base_uri": "https://localhost:8080/"
        },
        "id": "YzEzeefFBMzK",
        "outputId": "2572909a-1d8f-4636-ad91-9a12d6c0a3c8"
      },
      "execution_count": null,
      "outputs": [
        {
          "output_type": "stream",
          "name": "stdout",
          "text": [
            "junide.\n",
            "janasah.\n",
            "p.\n",
            "cfay.\n",
            "a.\n"
          ]
        }
      ]
    },
    {
      "cell_type": "markdown",
      "source": [
        "Loss: 2.49\n",
        "\n",
        "Text Generated:\n",
        "- junide.\n",
        "- janasah.\n",
        "- p.\n",
        "- cfay.\n",
        "- a."
      ],
      "metadata": {
        "id": "jCIVSnC1XhBa"
      }
    },
    {
      "cell_type": "markdown",
      "source": [
        "#### E01: Trigram\n",
        "I wasn't sure at first whether increasing the right way to go was increasing the size of the input dimension or adding another dimension so I decided to try both. Also, note that my code here is meant to resemble Andrej Karpathy's, which is intentonally a little bit hacky for educational purposes. This is not what a \"production\" implementation would look like."
      ],
      "metadata": {
        "id": "QtFUxfxYFvu3"
      }
    },
    {
      "cell_type": "markdown",
      "source": [
        "##### V1: Additional Dimension"
      ],
      "metadata": {
        "id": "CUgtOrSzXOhq"
      }
    },
    {
      "cell_type": "code",
      "source": [
        "import einops"
      ],
      "metadata": {
        "id": "zTxpJB96HY4Y"
      },
      "execution_count": null,
      "outputs": []
    },
    {
      "cell_type": "code",
      "source": [
        "xs, ys = [], []\n",
        "for w in words:\n",
        "  chs = ['.'] + list(w) + ['.', '.']\n",
        "  for ch1, ch2, ch3 in zip(chs, chs[1:], chs[2:]):\n",
        "    ix1 = stoi[ch1]\n",
        "    ix2 = stoi[ch2]\n",
        "    ix3 = stoi[ch3]\n",
        "    xs.append((ix1, ix2))\n",
        "    ys.append(ix3)\n",
        "xs = torch.tensor(xs)\n",
        "ys = torch.tensor(ys)\n",
        "num = xs.nelement() // 2 # dividing by 2 now because the shape of xs has changed\n",
        "print('number of examples: ', num)\n",
        "\n",
        "W1 = torch.randn((27, 27, 27), generator=g, requires_grad=True) # 3D now"
      ],
      "metadata": {
        "colab": {
          "base_uri": "https://localhost:8080/"
        },
        "id": "tGFiTcvTDSK3",
        "outputId": "44ec45b5-c519-4822-fcfb-98f8292a1f7d"
      },
      "execution_count": null,
      "outputs": [
        {
          "output_type": "stream",
          "name": "stdout",
          "text": [
            "number of examples:  228146\n"
          ]
        }
      ]
    },
    {
      "cell_type": "code",
      "source": [
        "for k in range(100):\n",
        "\n",
        "  # forward pass\n",
        "  xenc = F.one_hot(xs[:, 0], num_classes=27).float() # character 1\n",
        "  xenc2 = F.one_hot(xs[:, 1], num_classes=27).float() # character 2\n",
        "  logits = einops.einsum(xenc, W1, xenc2, \"b i, i j k, b j -> b k\") # you might have to ask GPT about this line. Understand what's happening but don't stress it, it'll make more sense soon.\n",
        "  counts = logits.exp()\n",
        "  probs = counts / counts.sum(1, keepdims=True)\n",
        "  loss = -probs[torch.arange(num), ys].log().mean() + 0.01*(W1**2).mean()\n",
        "\n",
        "  if k % 10 == 0:\n",
        "    print(loss.item())\n",
        "\n",
        "  # backward pass\n",
        "  W1.grad = None # set to zero the gradient\n",
        "  loss.backward()\n",
        "\n",
        "  # update\n",
        "  W1.data += -50 * W1.grad\n",
        "\n",
        "print(loss.item())"
      ],
      "metadata": {
        "colab": {
          "base_uri": "https://localhost:8080/"
        },
        "id": "r_lZNzfIF9Pc",
        "outputId": "7a2918f1-5bcd-4098-c68c-29964eb1e97a"
      },
      "execution_count": null,
      "outputs": [
        {
          "output_type": "stream",
          "name": "stdout",
          "text": [
            "3.6517415046691895\n",
            "2.8801517486572266\n",
            "2.6203973293304443\n",
            "2.471735715866089\n",
            "2.373619794845581\n",
            "2.3028182983398438\n",
            "2.2486462593078613\n",
            "2.205559015274048\n",
            "2.1703648567199707\n",
            "2.1410269737243652\n",
            "2.1184768676757812\n"
          ]
        }
      ]
    },
    {
      "cell_type": "code",
      "source": [
        "for i in range(5):\n",
        "\n",
        "  out = []\n",
        "  # couldn't decide on good var names so I thought I would be funny\n",
        "  uno = 0\n",
        "  dos = 0\n",
        "  while True:\n",
        "\n",
        "    xenc = F.one_hot(torch.tensor(uno), num_classes=27).float().unsqueeze(0)\n",
        "    xenc2 = F.one_hot(torch.tensor(dos), num_classes=27).float().unsqueeze(0)\n",
        "    logits = einops.einsum(xenc, W1, xenc2, \"b i, i j k, b j -> b k\")\n",
        "    counts = logits.exp()\n",
        "    p = counts / counts.sum(1, keepdims=True)\n",
        "\n",
        "    uno = dos\n",
        "    dos = torch.multinomial(p, num_samples=1, replacement=True, generator=g).item()\n",
        "    out.append(itos[dos])\n",
        "    if dos == 0:\n",
        "      break\n",
        "  print(''.join(out))"
      ],
      "metadata": {
        "colab": {
          "base_uri": "https://localhost:8080/"
        },
        "id": "1A6imbZyChjH",
        "outputId": "0a91b829-6f47-4866-c3a5-320bbf2ec7da"
      },
      "execution_count": null,
      "outputs": [
        {
          "output_type": "stream",
          "name": "stdout",
          "text": [
            "ni.\n",
            "makestobfzwruvbvjxpxdznleanczqwmdemyw.\n",
            "mkzdnseira.\n",
            "na.\n",
            "umjoebvsdfyhoujfodpmvuhdgdohupy.\n"
          ]
        }
      ]
    },
    {
      "cell_type": "markdown",
      "source": [
        "Loss: 2.12\n",
        "\n",
        "Text Generated\n",
        "- coud\n",
        "- qipny\n",
        "- hafijcpydhrdqzieqiupfdcaanvinegnhiyah\n",
        "- dae\n",
        "- hatea\n",
        "\n",
        "Lower loss but also lower quality outputs than the original. Seems like overfitting.\n",
        "\n",
        "Curiously, when I train for 1000 steps instead, I get these results:\n",
        "\n",
        "Loss: 1.49\n",
        "\n",
        "Text Generated\n",
        "- ouwade\n",
        "- ilyasid\n",
        "- prelay\n",
        "- ocnzi\n",
        "- ohr\n",
        "\n",
        "These seem much higher quality than the original.  "
      ],
      "metadata": {
        "id": "MYv7E7g7X2ih"
      }
    },
    {
      "cell_type": "markdown",
      "source": [
        "##### V2: Bigger input dimension"
      ],
      "metadata": {
        "id": "78MMEDwyYDZq"
      }
    },
    {
      "cell_type": "code",
      "source": [
        "xs, ys = [], []\n",
        "for w in words:\n",
        "  chs = ['.'] + list(w) + ['.', '.']\n",
        "  for ch1, ch2, ch3 in zip(chs, chs[1:], chs[2:]):\n",
        "    ix1 = stoi[ch1]\n",
        "    ix2 = stoi[ch2]\n",
        "    ix3 = stoi[ch3]\n",
        "    xs.append((ix1, ix2))\n",
        "    ys.append(ix3)\n",
        "xs = torch.tensor(xs)\n",
        "ys = torch.tensor(ys)\n",
        "num = xs.nelement() // 2 # dividing by 2 now because the shape of xs has changed\n",
        "print('number of examples: ', num)\n",
        "\n",
        "W2 = torch.randn((27*2, 27), generator=g, requires_grad=True) # still 2D but now the input dimension is double"
      ],
      "metadata": {
        "colab": {
          "base_uri": "https://localhost:8080/"
        },
        "id": "jYKl5J4FQkPf",
        "outputId": "d2d2ddd7-89ba-4e4c-86e1-707b44341b98"
      },
      "execution_count": null,
      "outputs": [
        {
          "output_type": "stream",
          "name": "stdout",
          "text": [
            "number of examples:  228146\n"
          ]
        }
      ]
    },
    {
      "cell_type": "code",
      "source": [
        "for k in range(100):\n",
        "\n",
        "  # forward pass\n",
        "  '''Edit: a cleaner implementation would be:\n",
        "  xenc = F.one_hot(xs, num_classes=27).float()\n",
        "  logits = xenc.view(-1, 27*2) @ W2\n",
        "  '''\n",
        "  xenc = F.one_hot(xs[:, 0], num_classes=27).float() # character 1\n",
        "  xenc2 = F.one_hot(xs[:, 1], num_classes=27).float() # character 2\n",
        "  xcat = torch.cat ((xenc, xenc2), 1)\n",
        "  logits = xcat @ W2\n",
        "  counts = logits.exp()\n",
        "  probs = counts / counts.sum(1, keepdims=True)\n",
        "  loss = -probs[torch.arange(num), ys].log().mean() + 0.01*(W2**2).mean()\n",
        "\n",
        "  if k % 10 == 0:\n",
        "    print(loss.item())\n",
        "\n",
        "  # backward pass\n",
        "  W2.grad = None # set to zero the gradient\n",
        "  loss.backward()\n",
        "\n",
        "  # update\n",
        "  W2.data += -50 * W2.grad\n",
        "\n",
        "print(loss.item())"
      ],
      "metadata": {
        "colab": {
          "base_uri": "https://localhost:8080/"
        },
        "id": "FeXOFDNFREcc",
        "outputId": "0e2ab2d6-0fbf-438e-c01b-1ac3c42536b8"
      },
      "execution_count": null,
      "outputs": [
        {
          "output_type": "stream",
          "name": "stdout",
          "text": [
            "4.5374555587768555\n",
            "2.16996693611145\n",
            "2.063832998275757\n",
            "2.020979404449463\n",
            "1.9984627962112427\n",
            "1.9848086833953857\n",
            "1.9757133722305298\n",
            "1.9692426919937134\n",
            "1.9644166231155396\n",
            "1.960689663887024\n",
            "1.958001732826233\n"
          ]
        }
      ]
    },
    {
      "cell_type": "code",
      "source": [
        "for i in range(5):\n",
        "\n",
        "  out = []\n",
        "  # couldn't decide on good var names so I thought I would be funny\n",
        "  uno = 0\n",
        "  dos = 0\n",
        "  while True:\n",
        "\n",
        "    xenc = F.one_hot(torch.tensor(uno), num_classes=27).float().unsqueeze(0)\n",
        "    xenc2 = F.one_hot(torch.tensor(dos), num_classes=27).float().unsqueeze(0)\n",
        "    xcat = torch.cat((xenc, xenc2), 1)\n",
        "    logits = xcat @ W2\n",
        "    counts = logits.exp()\n",
        "    p = counts / counts.sum(1, keepdims=True)\n",
        "\n",
        "    uno = dos\n",
        "    dos = torch.multinomial(p, num_samples=1, replacement=True, generator=g).item()\n",
        "    out.append(itos[dos])\n",
        "    if dos == 0:\n",
        "      break\n",
        "  print(''.join(out))"
      ],
      "metadata": {
        "colab": {
          "base_uri": "https://localhost:8080/"
        },
        "id": "IslDp05-b7hK",
        "outputId": "aecc8c0f-db42-401a-c2dd-7387fdde6f10"
      },
      "execution_count": null,
      "outputs": [
        {
          "output_type": "stream",
          "name": "stdout",
          "text": [
            ".\n",
            ".\n",
            "mefilayniylenn.\n",
            ".\n",
            ".\n"
          ]
        }
      ]
    },
    {
      "cell_type": "markdown",
      "source": [
        "Loss: 1.95\n",
        "\n",
        "Text Generated:\n",
        "- blank\n",
        "- dena\n",
        "- blank\n",
        "- blank\n",
        "- blank\n",
        "\n",
        "Much lower loss but also lower quality generations."
      ],
      "metadata": {
        "id": "okXuaqsNYBSX"
      }
    },
    {
      "cell_type": "markdown",
      "source": [],
      "metadata": {
        "id": "mKnyq9YBlC8l"
      }
    },
    {
      "cell_type": "markdown",
      "source": [
        "#### E02: Splitting\n",
        "Basic implementation of the splitting. Play around by yourself to answer Andrej Karpathy's question."
      ],
      "metadata": {
        "id": "RimEFXMtlIAl"
      }
    },
    {
      "cell_type": "code",
      "source": [
        "import random\n",
        "\n",
        "random.shuffle(words)\n",
        "\n",
        "num_words = len(words)\n",
        "train_split = int(0.8*num_words)\n",
        "dev_split = int(0.9*num_words)\n",
        "\n",
        "train_words = words[:train_split]\n",
        "dev_words = words[train_split:dev_split]\n",
        "test_words = words[dev_split:]\n",
        "\n",
        "print(f\"Train Size: {len(train_words)}\")\n",
        "print(f\"Dev Size: {len(dev_words)}\")\n",
        "print(f\"Test Size: {len(test_words)}\")"
      ],
      "metadata": {
        "colab": {
          "base_uri": "https://localhost:8080/"
        },
        "id": "cZbFeEeqlcY9",
        "outputId": "10196e81-b621-4023-cf0f-dfe9cb272ba0"
      },
      "execution_count": null,
      "outputs": [
        {
          "output_type": "stream",
          "name": "stdout",
          "text": [
            "Train Size: 25626\n",
            "Dev Size: 3203\n",
            "Test Size: 3204\n"
          ]
        }
      ]
    },
    {
      "cell_type": "markdown",
      "source": [
        "#### E05: F.cross_entropy\n"
      ],
      "metadata": {
        "id": "mYnWd1dKoVr2"
      }
    },
    {
      "cell_type": "code",
      "source": [
        "# From the original. You can turn snippet 1 into snippet 2 using F.cross_entropy\n",
        "xenc = F.one_hot(xs, num_classes=27).float() # input to the network: one-hot encoding\n",
        "logits = xenc @ W # predict log-counts\n",
        "counts = logits.exp() # counts, equivalent to N\n",
        "probs = counts / counts.sum(1, keepdims=True) # probabilities for next character\n",
        "loss = -probs[torch.arange(num), ys].log().mean() + 0.01*(W**2).mean()\n",
        "\n",
        "# F.cross_entropy\n",
        "xenc = F.one_hot(xs, num_classes=27).float()\n",
        "logits = xenc @ W\n",
        "loss = F.cross_entropy(logits, ys) + 0.01*(W**2).mean()\n",
        "\n",
        "# Why you want to use F.cross_entropy instead: https://youtu.be/TCH_1BHY58I?t=1979"
      ],
      "metadata": {
        "id": "gJzaErXQo44z"
      },
      "execution_count": null,
      "outputs": []
    },
    {
      "cell_type": "markdown",
      "source": [
        "### Makemore Part 2: MLP"
      ],
      "metadata": {
        "id": "-hV5_mYJrtPM"
      }
    },
    {
      "cell_type": "markdown",
      "source": [
        "#### E03"
      ],
      "metadata": {
        "id": "m35M4cMlr5-K"
      }
    },
    {
      "cell_type": "markdown",
      "source": [
        "### Makemore Part 3: Activations and Gradients, Batchnorm\n",
        "\n",
        "Not bothering too much with splits here for convenience."
      ],
      "metadata": {
        "id": "2rGv1wZBr-eq"
      }
    },
    {
      "cell_type": "markdown",
      "source": [
        "#### Setup"
      ],
      "metadata": {
        "id": "NaebhmbD_RRc"
      }
    },
    {
      "cell_type": "code",
      "source": [
        "class Linear:\n",
        "\n",
        "  def __init__(self, fan_in, fan_out, bias=True):\n",
        "    self.weight = torch.randn((fan_in, fan_out), generator=g) / fan_in**0.5\n",
        "    self.bias = torch.zeros(fan_out) if bias else None\n",
        "\n",
        "  def __call__(self, x):\n",
        "    self.out = x @ self.weight\n",
        "    if self.bias is not None:\n",
        "      self.out += self.bias\n",
        "    return self.out\n",
        "\n",
        "  def parameters(self):\n",
        "    return [self.weight] + ([] if self.bias is None else [self.bias])\n",
        "\n",
        "\n",
        "class BatchNorm1d:\n",
        "\n",
        "  def __init__(self, dim, eps=1e-5, momentum=0.1):\n",
        "    self.eps = eps\n",
        "    self.momentum = momentum\n",
        "    self.training = True\n",
        "    # parameters (trained with backprop)\n",
        "    self.gamma = torch.ones(dim)\n",
        "    self.beta = torch.zeros(dim)\n",
        "    # buffers (trained with a running 'momentum update')\n",
        "    self.running_mean = torch.zeros(dim)\n",
        "    self.running_var = torch.ones(dim)\n",
        "\n",
        "  def __call__(self, x):\n",
        "    # calculate the forward pass\n",
        "    if self.training:\n",
        "      xmean = x.mean(0, keepdim=True) # batch mean\n",
        "      xvar = x.var(0, keepdim=True) # batch variance\n",
        "    else:\n",
        "      xmean = self.running_mean\n",
        "      xvar = self.running_var\n",
        "    xhat = (x - xmean) / torch.sqrt(xvar + self.eps) # normalize to unit variance\n",
        "    self.out = self.gamma * xhat + self.beta\n",
        "    # update the buffers\n",
        "    if self.training:\n",
        "      with torch.no_grad():\n",
        "        self.running_mean = (1 - self.momentum) * self.running_mean + self.momentum * xmean\n",
        "        self.running_var = (1 - self.momentum) * self.running_var + self.momentum * xvar\n",
        "    return self.out\n",
        "\n",
        "  def parameters(self):\n",
        "    return [self.gamma, self.beta]\n",
        "\n",
        "class Tanh:\n",
        "  def __call__(self, x):\n",
        "    self.out = torch.tanh(x)\n",
        "    return self.out\n",
        "  def parameters(self):\n",
        "    return []"
      ],
      "metadata": {
        "id": "DkBdPisZ_PdZ"
      },
      "execution_count": null,
      "outputs": []
    },
    {
      "cell_type": "code",
      "source": [
        "X, Y = [], []\n",
        "block_size = 3\n",
        "n_embd = 10\n",
        "n_hidden = 100\n",
        "block_size = 3\n",
        "vocab_size = len(itos)\n",
        "\n",
        "for w in words:\n",
        "  context = [0] * block_size\n",
        "  for ch in w + '.':\n",
        "    ix = stoi[ch]\n",
        "    X.append(context)\n",
        "    Y.append(ix)\n",
        "    context = context[1:] + [ix]\n",
        "\n",
        "X = torch.tensor(X)\n",
        "Y = torch.tensor(Y)\n",
        "print(X.shape, Y.shape)"
      ],
      "metadata": {
        "colab": {
          "base_uri": "https://localhost:8080/"
        },
        "id": "Qk0nFxYqCJaV",
        "outputId": "246147cc-705b-4138-afac-7980402ed579"
      },
      "execution_count": null,
      "outputs": [
        {
          "output_type": "stream",
          "name": "stdout",
          "text": [
            "torch.Size([228146, 3]) torch.Size([228146])\n"
          ]
        }
      ]
    },
    {
      "cell_type": "markdown",
      "source": [
        "#### E01"
      ],
      "metadata": {
        "id": "ysVWRa9K-aUQ"
      }
    },
    {
      "cell_type": "code",
      "source": [
        "# MLP Setup\n",
        "layers = [\n",
        "  Linear(n_embd * block_size, n_hidden, bias=False), BatchNorm1d(n_hidden), Tanh(),\n",
        "  Linear(           n_hidden, n_hidden, bias=False), BatchNorm1d(n_hidden), Tanh(),\n",
        "  Linear(           n_hidden, n_hidden, bias=False), BatchNorm1d(n_hidden), Tanh(),\n",
        "  Linear(           n_hidden, n_hidden, bias=False), BatchNorm1d(n_hidden), Tanh(),\n",
        "  Linear(           n_hidden, n_hidden, bias=False), BatchNorm1d(n_hidden), Tanh(),\n",
        "  Linear(           n_hidden, vocab_size, bias=False), BatchNorm1d(vocab_size),\n",
        "]\n",
        "C = torch.randn((vocab_size, n_embd),            generator=g)\n",
        "parameters = [C] + [p for layer in layers for p in layer.parameters()]\n",
        "print(sum(p.nelement() for p in parameters))\n",
        "\n",
        "for p in parameters:\n",
        "  p.requires_grad = True\n",
        "  p.data = torch.zeros_like(p.data)"
      ],
      "metadata": {
        "colab": {
          "base_uri": "https://localhost:8080/"
        },
        "id": "_S7gXYmoeVkU",
        "outputId": "3363d297-1e43-4a07-ae83-fd9dffa7f2ff"
      },
      "execution_count": null,
      "outputs": [
        {
          "output_type": "stream",
          "name": "stdout",
          "text": [
            "47024\n"
          ]
        }
      ]
    },
    {
      "cell_type": "code",
      "source": [
        "# MLP Training\n",
        "batch_size = 32\n",
        "ud = []\n",
        "for i in range(1000):\n",
        "\n",
        "  # minibatch construct\n",
        "  ix = torch.randint(0, X.shape[0], (batch_size,), generator=g)\n",
        "  Xb, Yb = X[ix], Y[ix] # batch X,Y\n",
        "\n",
        "  # forward pass\n",
        "  emb = C[Xb] # embed the characters into vectors\n",
        "  x = emb.view(emb.shape[0], -1) # concatenate the vectors\n",
        "  for layer in layers:\n",
        "    x = layer(x)\n",
        "  loss = F.cross_entropy(x, Yb) # loss function\n",
        "  if i % 100 == 0:\n",
        "    print(loss.item())\n",
        "\n",
        "  # backward pass\n",
        "  for layer in layers:\n",
        "    layer.out.retain_grad()\n",
        "  for p in parameters:\n",
        "    p.grad = None\n",
        "  loss.backward()\n",
        "\n",
        "  # update\n",
        "  lr = 0.1 if i < 150000 else 0.01 # step learning rate decay\n",
        "  for p in parameters:\n",
        "    p.data += -lr * p.grad\n",
        "\n",
        "  with torch.no_grad():\n",
        "    ud.append([((lr*p.grad).std() / p.data.std()).log10().item() for p in parameters])"
      ],
      "metadata": {
        "colab": {
          "base_uri": "https://localhost:8080/"
        },
        "id": "1B5oh0fJfgQ9",
        "outputId": "344d7b6f-bd51-4317-a092-83f24666d6e5"
      },
      "execution_count": null,
      "outputs": [
        {
          "output_type": "stream",
          "name": "stdout",
          "text": [
            "3.295837163925171\n",
            "3.044875144958496\n",
            "2.9702932834625244\n",
            "2.840195894241333\n",
            "3.0619606971740723\n",
            "2.819377899169922\n",
            "3.093287467956543\n",
            "2.6854422092437744\n",
            "2.6405556201934814\n",
            "2.8148913383483887\n"
          ]
        }
      ]
    },
    {
      "cell_type": "code",
      "source": [
        "import matplotlib.pyplot as plt\n",
        "%matplotlib inline"
      ],
      "metadata": {
        "id": "PlX04BvDijF9"
      },
      "execution_count": null,
      "outputs": []
    },
    {
      "cell_type": "code",
      "source": [
        "# Inspect Activations\n",
        "# visualize histograms\n",
        "plt.figure(figsize=(20, 4)) # width and height of the plot\n",
        "legends = []\n",
        "for i, layer in enumerate(layers[:-1]): # note: exclude the output layer\n",
        "  if isinstance(layer, Tanh):\n",
        "    t = layer.out\n",
        "    print('layer %d (%10s): mean %+.2f, std %.2f, saturated: %.2f%%' % (i, layer.__class__.__name__, t.mean(), t.std(), (t.abs() > 0.97).float().mean()*100))\n",
        "    hy, hx = torch.histogram(t, density=True)\n",
        "    plt.plot(hx[:-1].detach(), hy.detach())\n",
        "    legends.append(f'layer {i} ({layer.__class__.__name__}')\n",
        "plt.legend(legends);\n",
        "plt.title('activation distribution')"
      ],
      "metadata": {
        "colab": {
          "base_uri": "https://localhost:8080/",
          "height": 407
        },
        "id": "iZn5nRESiRkj",
        "outputId": "93d2f0e4-a7fc-4d28-9351-5171c56a211a"
      },
      "execution_count": null,
      "outputs": [
        {
          "output_type": "stream",
          "name": "stdout",
          "text": [
            "layer 2 (      Tanh): mean +0.00, std 0.00, saturated: 0.00%\n",
            "layer 5 (      Tanh): mean +0.00, std 0.00, saturated: 0.00%\n",
            "layer 8 (      Tanh): mean +0.00, std 0.00, saturated: 0.00%\n",
            "layer 11 (      Tanh): mean +0.00, std 0.00, saturated: 0.00%\n",
            "layer 14 (      Tanh): mean +0.00, std 0.00, saturated: 0.00%\n"
          ]
        },
        {
          "output_type": "execute_result",
          "data": {
            "text/plain": [
              "Text(0.5, 1.0, 'activation distribution')"
            ]
          },
          "metadata": {},
          "execution_count": 262
        },
        {
          "output_type": "display_data",
          "data": {
            "text/plain": [
              "<Figure size 2000x400 with 1 Axes>"
            ],
            "image/png": "[encoded data removed]"
          },
          "metadata": {}
        }
      ]
    },
    {
      "cell_type": "code",
      "source": [
        "# visualize histograms\n",
        "plt.figure(figsize=(20, 4)) # width and height of the plot\n",
        "legends = []\n",
        "for i, layer in enumerate(layers[:-1]): # note: exclude the output layer\n",
        "  if isinstance(layer, Tanh):\n",
        "    t = layer.out.grad\n",
        "    print('layer %d (%10s): mean %+f, std %e' % (i, layer.__class__.__name__, t.mean(), t.std()))\n",
        "    hy, hx = torch.histogram(t, density=True)\n",
        "    plt.plot(hx[:-1].detach(), hy.detach())\n",
        "    legends.append(f'layer {i} ({layer.__class__.__name__}')\n",
        "plt.legend(legends);\n",
        "plt.title('gradient distribution')"
      ],
      "metadata": {
        "colab": {
          "base_uri": "https://localhost:8080/",
          "height": 515
        },
        "id": "mMs9Fs-3isgO",
        "outputId": "9c01ffad-745c-40dd-eae2-40c6c3afe8b5"
      },
      "execution_count": null,
      "outputs": [
        {
          "output_type": "stream",
          "name": "stdout",
          "text": [
            "layer 2 (      Tanh): mean +0.000000, std 0.000000e+00\n",
            "layer 5 (      Tanh): mean +0.000000, std 0.000000e+00\n",
            "layer 8 (      Tanh): mean +0.000000, std 0.000000e+00\n",
            "layer 11 (      Tanh): mean +0.000000, std 0.000000e+00\n",
            "layer 14 (      Tanh): mean +0.000000, std 0.000000e+00\n"
          ]
        },
        {
          "output_type": "execute_result",
          "data": {
            "text/plain": [
              "Text(0.5, 1.0, 'gradient distribution')"
            ]
          },
          "metadata": {},
          "execution_count": 263
        },
        {
          "output_type": "display_data",
          "data": {
            "text/plain": [
              "<Figure size 2000x400 with 1 Axes>"
            ],
            "image/png": "[encoded data removed]"
          },
          "metadata": {}
        }
      ]
    },
    {
      "cell_type": "code",
      "source": [
        "parameters"
      ],
      "metadata": {
        "colab": {
          "base_uri": "https://localhost:8080/"
        },
        "id": "X9rJU_SzoJXd",
        "outputId": "398fc37a-b5b2-4a2b-f3bf-218dad2f3e28"
      },
      "execution_count": null,
      "outputs": [
        {
          "output_type": "execute_result",
          "data": {
            "text/plain": [
              "[tensor([[0., 0., 0., 0., 0., 0., 0., 0., 0., 0.],\n",
              "         [0., 0., 0., 0., 0., 0., 0., 0., 0., 0.],\n",
              "         [0., 0., 0., 0., 0., 0., 0., 0., 0., 0.],\n",
              "         [0., 0., 0., 0., 0., 0., 0., 0., 0., 0.],\n",
              "         [0., 0., 0., 0., 0., 0., 0., 0., 0., 0.],\n",
              "         [0., 0., 0., 0., 0., 0., 0., 0., 0., 0.],\n",
              "         [0., 0., 0., 0., 0., 0., 0., 0., 0., 0.],\n",
              "         [0., 0., 0., 0., 0., 0., 0., 0., 0., 0.],\n",
              "         [0., 0., 0., 0., 0., 0., 0., 0., 0., 0.],\n",
              "         [0., 0., 0., 0., 0., 0., 0., 0., 0., 0.],\n",
              "         [0., 0., 0., 0., 0., 0., 0., 0., 0., 0.],\n",
              "         [0., 0., 0., 0., 0., 0., 0., 0., 0., 0.],\n",
              "         [0., 0., 0., 0., 0., 0., 0., 0., 0., 0.],\n",
              "         [0., 0., 0., 0., 0., 0., 0., 0., 0., 0.],\n",
              "         [0., 0., 0., 0., 0., 0., 0., 0., 0., 0.],\n",
              "         [0., 0., 0., 0., 0., 0., 0., 0., 0., 0.],\n",
              "         [0., 0., 0., 0., 0., 0., 0., 0., 0., 0.],\n",
              "         [0., 0., 0., 0., 0., 0., 0., 0., 0., 0.],\n",
              "         [0., 0., 0., 0., 0., 0., 0., 0., 0., 0.],\n",
              "         [0., 0., 0., 0., 0., 0., 0., 0., 0., 0.],\n",
              "         [0., 0., 0., 0., 0., 0., 0., 0., 0., 0.],\n",
              "         [0., 0., 0., 0., 0., 0., 0., 0., 0., 0.],\n",
              "         [0., 0., 0., 0., 0., 0., 0., 0., 0., 0.],\n",
              "         [0., 0., 0., 0., 0., 0., 0., 0., 0., 0.],\n",
              "         [0., 0., 0., 0., 0., 0., 0., 0., 0., 0.],\n",
              "         [0., 0., 0., 0., 0., 0., 0., 0., 0., 0.],\n",
              "         [0., 0., 0., 0., 0., 0., 0., 0., 0., 0.]], requires_grad=True),\n",
              " tensor([[0., 0., 0.,  ..., 0., 0., 0.],\n",
              "         [0., 0., 0.,  ..., 0., 0., 0.],\n",
              "         [0., 0., 0.,  ..., 0., 0., 0.],\n",
              "         ...,\n",
              "         [0., 0., 0.,  ..., 0., 0., 0.],\n",
              "         [0., 0., 0.,  ..., 0., 0., 0.],\n",
              "         [0., 0., 0.,  ..., 0., 0., 0.]], requires_grad=True),\n",
              " tensor([0., 0., 0., 0., 0., 0., 0., 0., 0., 0., 0., 0., 0., 0., 0., 0., 0., 0., 0., 0., 0., 0., 0., 0.,\n",
              "         0., 0., 0., 0., 0., 0., 0., 0., 0., 0., 0., 0., 0., 0., 0., 0., 0., 0., 0., 0., 0., 0., 0., 0.,\n",
              "         0., 0., 0., 0., 0., 0., 0., 0., 0., 0., 0., 0., 0., 0., 0., 0., 0., 0., 0., 0., 0., 0., 0., 0.,\n",
              "         0., 0., 0., 0., 0., 0., 0., 0., 0., 0., 0., 0., 0., 0., 0., 0., 0., 0., 0., 0., 0., 0., 0., 0.,\n",
              "         0., 0., 0., 0.], requires_grad=True),\n",
              " tensor([0., 0., 0., 0., 0., 0., 0., 0., 0., 0., 0., 0., 0., 0., 0., 0., 0., 0., 0., 0., 0., 0., 0., 0.,\n",
              "         0., 0., 0., 0., 0., 0., 0., 0., 0., 0., 0., 0., 0., 0., 0., 0., 0., 0., 0., 0., 0., 0., 0., 0.,\n",
              "         0., 0., 0., 0., 0., 0., 0., 0., 0., 0., 0., 0., 0., 0., 0., 0., 0., 0., 0., 0., 0., 0., 0., 0.,\n",
              "         0., 0., 0., 0., 0., 0., 0., 0., 0., 0., 0., 0., 0., 0., 0., 0., 0., 0., 0., 0., 0., 0., 0., 0.,\n",
              "         0., 0., 0., 0.], requires_grad=True),\n",
              " tensor([[0., 0., 0.,  ..., 0., 0., 0.],\n",
              "         [0., 0., 0.,  ..., 0., 0., 0.],\n",
              "         [0., 0., 0.,  ..., 0., 0., 0.],\n",
              "         ...,\n",
              "         [0., 0., 0.,  ..., 0., 0., 0.],\n",
              "         [0., 0., 0.,  ..., 0., 0., 0.],\n",
              "         [0., 0., 0.,  ..., 0., 0., 0.]], requires_grad=True),\n",
              " tensor([0., 0., 0., 0., 0., 0., 0., 0., 0., 0., 0., 0., 0., 0., 0., 0., 0., 0., 0., 0., 0., 0., 0., 0.,\n",
              "         0., 0., 0., 0., 0., 0., 0., 0., 0., 0., 0., 0., 0., 0., 0., 0., 0., 0., 0., 0., 0., 0., 0., 0.,\n",
              "         0., 0., 0., 0., 0., 0., 0., 0., 0., 0., 0., 0., 0., 0., 0., 0., 0., 0., 0., 0., 0., 0., 0., 0.,\n",
              "         0., 0., 0., 0., 0., 0., 0., 0., 0., 0., 0., 0., 0., 0., 0., 0., 0., 0., 0., 0., 0., 0., 0., 0.,\n",
              "         0., 0., 0., 0.], requires_grad=True),\n",
              " tensor([0., 0., 0., 0., 0., 0., 0., 0., 0., 0., 0., 0., 0., 0., 0., 0., 0., 0., 0., 0., 0., 0., 0., 0.,\n",
              "         0., 0., 0., 0., 0., 0., 0., 0., 0., 0., 0., 0., 0., 0., 0., 0., 0., 0., 0., 0., 0., 0., 0., 0.,\n",
              "         0., 0., 0., 0., 0., 0., 0., 0., 0., 0., 0., 0., 0., 0., 0., 0., 0., 0., 0., 0., 0., 0., 0., 0.,\n",
              "         0., 0., 0., 0., 0., 0., 0., 0., 0., 0., 0., 0., 0., 0., 0., 0., 0., 0., 0., 0., 0., 0., 0., 0.,\n",
              "         0., 0., 0., 0.], requires_grad=True),\n",
              " tensor([[0., 0., 0.,  ..., 0., 0., 0.],\n",
              "         [0., 0., 0.,  ..., 0., 0., 0.],\n",
              "         [0., 0., 0.,  ..., 0., 0., 0.],\n",
              "         ...,\n",
              "         [0., 0., 0.,  ..., 0., 0., 0.],\n",
              "         [0., 0., 0.,  ..., 0., 0., 0.],\n",
              "         [0., 0., 0.,  ..., 0., 0., 0.]], requires_grad=True),\n",
              " tensor([0., 0., 0., 0., 0., 0., 0., 0., 0., 0., 0., 0., 0., 0., 0., 0., 0., 0., 0., 0., 0., 0., 0., 0.,\n",
              "         0., 0., 0., 0., 0., 0., 0., 0., 0., 0., 0., 0., 0., 0., 0., 0., 0., 0., 0., 0., 0., 0., 0., 0.,\n",
              "         0., 0., 0., 0., 0., 0., 0., 0., 0., 0., 0., 0., 0., 0., 0., 0., 0., 0., 0., 0., 0., 0., 0., 0.,\n",
              "         0., 0., 0., 0., 0., 0., 0., 0., 0., 0., 0., 0., 0., 0., 0., 0., 0., 0., 0., 0., 0., 0., 0., 0.,\n",
              "         0., 0., 0., 0.], requires_grad=True),\n",
              " tensor([0., 0., 0., 0., 0., 0., 0., 0., 0., 0., 0., 0., 0., 0., 0., 0., 0., 0., 0., 0., 0., 0., 0., 0.,\n",
              "         0., 0., 0., 0., 0., 0., 0., 0., 0., 0., 0., 0., 0., 0., 0., 0., 0., 0., 0., 0., 0., 0., 0., 0.,\n",
              "         0., 0., 0., 0., 0., 0., 0., 0., 0., 0., 0., 0., 0., 0., 0., 0., 0., 0., 0., 0., 0., 0., 0., 0.,\n",
              "         0., 0., 0., 0., 0., 0., 0., 0., 0., 0., 0., 0., 0., 0., 0., 0., 0., 0., 0., 0., 0., 0., 0., 0.,\n",
              "         0., 0., 0., 0.], requires_grad=True),\n",
              " tensor([[0., 0., 0.,  ..., 0., 0., 0.],\n",
              "         [0., 0., 0.,  ..., 0., 0., 0.],\n",
              "         [0., 0., 0.,  ..., 0., 0., 0.],\n",
              "         ...,\n",
              "         [0., 0., 0.,  ..., 0., 0., 0.],\n",
              "         [0., 0., 0.,  ..., 0., 0., 0.],\n",
              "         [0., 0., 0.,  ..., 0., 0., 0.]], requires_grad=True),\n",
              " tensor([0., 0., 0., 0., 0., 0., 0., 0., 0., 0., 0., 0., 0., 0., 0., 0., 0., 0., 0., 0., 0., 0., 0., 0.,\n",
              "         0., 0., 0., 0., 0., 0., 0., 0., 0., 0., 0., 0., 0., 0., 0., 0., 0., 0., 0., 0., 0., 0., 0., 0.,\n",
              "         0., 0., 0., 0., 0., 0., 0., 0., 0., 0., 0., 0., 0., 0., 0., 0., 0., 0., 0., 0., 0., 0., 0., 0.,\n",
              "         0., 0., 0., 0., 0., 0., 0., 0., 0., 0., 0., 0., 0., 0., 0., 0., 0., 0., 0., 0., 0., 0., 0., 0.,\n",
              "         0., 0., 0., 0.], requires_grad=True),\n",
              " tensor([0., 0., 0., 0., 0., 0., 0., 0., 0., 0., 0., 0., 0., 0., 0., 0., 0., 0., 0., 0., 0., 0., 0., 0.,\n",
              "         0., 0., 0., 0., 0., 0., 0., 0., 0., 0., 0., 0., 0., 0., 0., 0., 0., 0., 0., 0., 0., 0., 0., 0.,\n",
              "         0., 0., 0., 0., 0., 0., 0., 0., 0., 0., 0., 0., 0., 0., 0., 0., 0., 0., 0., 0., 0., 0., 0., 0.,\n",
              "         0., 0., 0., 0., 0., 0., 0., 0., 0., 0., 0., 0., 0., 0., 0., 0., 0., 0., 0., 0., 0., 0., 0., 0.,\n",
              "         0., 0., 0., 0.], requires_grad=True),\n",
              " tensor([[0., 0., 0.,  ..., 0., 0., 0.],\n",
              "         [0., 0., 0.,  ..., 0., 0., 0.],\n",
              "         [0., 0., 0.,  ..., 0., 0., 0.],\n",
              "         ...,\n",
              "         [0., 0., 0.,  ..., 0., 0., 0.],\n",
              "         [0., 0., 0.,  ..., 0., 0., 0.],\n",
              "         [0., 0., 0.,  ..., 0., 0., 0.]], requires_grad=True),\n",
              " tensor([0., 0., 0., 0., 0., 0., 0., 0., 0., 0., 0., 0., 0., 0., 0., 0., 0., 0., 0., 0., 0., 0., 0., 0.,\n",
              "         0., 0., 0., 0., 0., 0., 0., 0., 0., 0., 0., 0., 0., 0., 0., 0., 0., 0., 0., 0., 0., 0., 0., 0.,\n",
              "         0., 0., 0., 0., 0., 0., 0., 0., 0., 0., 0., 0., 0., 0., 0., 0., 0., 0., 0., 0., 0., 0., 0., 0.,\n",
              "         0., 0., 0., 0., 0., 0., 0., 0., 0., 0., 0., 0., 0., 0., 0., 0., 0., 0., 0., 0., 0., 0., 0., 0.,\n",
              "         0., 0., 0., 0.], requires_grad=True),\n",
              " tensor([0., 0., 0., 0., 0., 0., 0., 0., 0., 0., 0., 0., 0., 0., 0., 0., 0., 0., 0., 0., 0., 0., 0., 0.,\n",
              "         0., 0., 0., 0., 0., 0., 0., 0., 0., 0., 0., 0., 0., 0., 0., 0., 0., 0., 0., 0., 0., 0., 0., 0.,\n",
              "         0., 0., 0., 0., 0., 0., 0., 0., 0., 0., 0., 0., 0., 0., 0., 0., 0., 0., 0., 0., 0., 0., 0., 0.,\n",
              "         0., 0., 0., 0., 0., 0., 0., 0., 0., 0., 0., 0., 0., 0., 0., 0., 0., 0., 0., 0., 0., 0., 0., 0.,\n",
              "         0., 0., 0., 0.], requires_grad=True),\n",
              " tensor([[0., 0., 0.,  ..., 0., 0., 0.],\n",
              "         [0., 0., 0.,  ..., 0., 0., 0.],\n",
              "         [0., 0., 0.,  ..., 0., 0., 0.],\n",
              "         ...,\n",
              "         [0., 0., 0.,  ..., 0., 0., 0.],\n",
              "         [0., 0., 0.,  ..., 0., 0., 0.],\n",
              "         [0., 0., 0.,  ..., 0., 0., 0.]], requires_grad=True),\n",
              " tensor([0., 0., 0., 0., 0., 0., 0., 0., 0., 0., 0., 0., 0., 0., 0., 0., 0., 0., 0., 0., 0., 0., 0., 0.,\n",
              "         0., 0., 0.], requires_grad=True),\n",
              " tensor([ 1.7434,  1.7875, -0.6373, -0.4330, -0.1051,  1.1860, -1.0945, -0.8538,\n",
              "          0.2938,  1.1738, -0.5858, -0.2047,  0.9024,  0.0959,  1.1567,  0.3386,\n",
              "         -1.0140, -1.2611,  0.8037,  0.3597, -0.0467, -0.5447, -0.6514, -1.0996,\n",
              "         -1.1574,  0.5452, -0.6974], requires_grad=True)]"
            ]
          },
          "metadata": {},
          "execution_count": 273
        }
      ]
    },
    {
      "cell_type": "markdown",
      "source": [
        "The only updates are in the last layer due to the loss calculation. This is where the \"partial\" training is happening. What I don't get is why none of this \"trickles\" up."
      ],
      "metadata": {
        "id": "Jy2hYKIQn9GP"
      }
    },
    {
      "cell_type": "markdown",
      "source": [
        "#### E02\n",
        "\n",
        "Folding did not work :( I'm definitely making some stupid error here."
      ],
      "metadata": {
        "id": "JaHCxhFVsMhx"
      }
    },
    {
      "cell_type": "code",
      "source": [
        "# MLP Setup\n",
        "g = torch.Generator().manual_seed(2147483647)\n",
        "\n",
        "C = torch.randn((vocab_size, n_embd),            generator=g)\n",
        "network = [\n",
        "  Linear(n_embd * block_size, n_hidden, bias=False), BatchNorm1d(n_hidden), Tanh(),\n",
        "  Linear(           n_hidden, n_hidden, bias=False), BatchNorm1d(n_hidden), Tanh(),\n",
        "  Linear(           n_hidden, n_hidden, bias=False), BatchNorm1d(n_hidden)\n",
        "]\n",
        "\n",
        "parameters = [C] + [p for layer in network for p in layer.parameters()]\n",
        "print(sum(p.nelement() for p in parameters)) # number of parameters in total\n",
        "for p in parameters:\n",
        "  p.requires_grad = True"
      ],
      "metadata": {
        "colab": {
          "base_uri": "https://localhost:8080/"
        },
        "id": "G1VC_Ywe-crf",
        "outputId": "a14cf656-f501-4660-f985-b30a80fecd3c"
      },
      "execution_count": null,
      "outputs": [
        {
          "output_type": "stream",
          "name": "stdout",
          "text": [
            "23870\n"
          ]
        }
      ]
    },
    {
      "cell_type": "code",
      "source": [
        "# MLP Training\n",
        "batch_size = 32\n",
        "for i in range(1000):\n",
        "\n",
        "  # minibatch construct\n",
        "  ix = torch.randint(0, X.shape[0], (batch_size,), generator=g)\n",
        "  Xb, Yb = X[ix], Y[ix] # batch X,Y\n",
        "\n",
        "  # forward pass\n",
        "  emb = C[Xb] # embed the characters into vectors\n",
        "  x = emb.view(emb.shape[0], -1) # concatenate the vectors\n",
        "  for layer in network:\n",
        "    x = layer(x)\n",
        "  loss = F.cross_entropy(x, Yb) # loss function\n",
        "  for p in parameters:\n",
        "    p.grad = None\n",
        "  loss.backward()\n",
        "\n",
        "  # update\n",
        "  lr = 0.1 if i < 150000 else 0.01 # step learning rate decay\n",
        "  for p in parameters:\n",
        "    p.data += -lr * p.grad"
      ],
      "metadata": {
        "id": "TQ6dWwirBXiT"
      },
      "execution_count": null,
      "outputs": []
    },
    {
      "cell_type": "code",
      "source": [
        "# MLP Eval 1\n",
        "@torch.no_grad()\n",
        "def split_loss():\n",
        "  x, y = X, Y\n",
        "  emb = C[x] # (N, block_size, n_embd)\n",
        "  x = emb.view(emb.shape[0], -1) # concat into (N, block_size * n_embd)\n",
        "  for layer in network:\n",
        "    x = layer(x)\n",
        "  loss = F.cross_entropy(x, y)\n",
        "  print(loss.item())\n",
        "\n",
        "# put layers into eval mode\n",
        "for layer in network:\n",
        "  layer.training = False\n",
        "split_loss()"
      ],
      "metadata": {
        "colab": {
          "base_uri": "https://localhost:8080/"
        },
        "id": "dohQ4OEZcoaG",
        "outputId": "3b3a95bc-2c9f-48a4-f26c-46ca886606aa"
      },
      "execution_count": null,
      "outputs": [
        {
          "output_type": "stream",
          "name": "stdout",
          "text": [
            "2.5595736503601074\n"
          ]
        }
      ]
    },
    {
      "cell_type": "code",
      "source": [
        "# Fold function\n",
        "def fold_batchnorm_into_linear(linear, batchnorm):\n",
        "    batchnorm.training = False\n",
        "\n",
        "    # Get parameters\n",
        "    gamma = batchnorm.gamma\n",
        "    beta = batchnorm.beta\n",
        "    running_mean = batchnorm.running_mean\n",
        "    running_var = batchnorm.running_var\n",
        "    eps = batchnorm.eps\n",
        "    W = linear.weight\n",
        "    b = linear.bias if linear.bias is not None else torch.zeros_like(beta)\n",
        "\n",
        "    # Calculate folded parameters\n",
        "    scale = gamma / torch.sqrt(running_var + eps)\n",
        "    W_folded = W * scale\n",
        "    b_folded = (b - running_mean) * scale + beta\n",
        "\n",
        "    # Create new linear layer\n",
        "    folded_linear = Linear(W.shape[0], W.shape[1], bias=True)\n",
        "\n",
        "    # Assign folded parameters\n",
        "    folded_linear.weight = W_folded\n",
        "    folded_linear.bias = b_folded\n",
        "\n",
        "    return folded_linear"
      ],
      "metadata": {
        "id": "YJZ4mEmLDzRr"
      },
      "execution_count": null,
      "outputs": []
    },
    {
      "cell_type": "code",
      "source": [
        "#folding\n",
        "import torch.nn as nn\n",
        "\n",
        "network[0] = fold_batchnorm_into_linear(network[0], network[1])\n",
        "network[3] = fold_batchnorm_into_linear(network[3], network[4])\n",
        "network[6] = fold_batchnorm_into_linear(network[6], network[7])\n",
        "network[2] = nn.Identity()\n",
        "network[5] = nn.Identity()\n",
        "\n",
        "parameters = [C] + [p for layer in network for p in layer.parameters()]\n",
        "print(sum(p.nelement() for p in parameters))"
      ],
      "metadata": {
        "colab": {
          "base_uri": "https://localhost:8080/"
        },
        "id": "IdKTFGe7GkA-",
        "outputId": "f12b9bf4-4bba-415e-d8fb-22a60b4e7234"
      },
      "execution_count": null,
      "outputs": [
        {
          "output_type": "stream",
          "name": "stdout",
          "text": [
            "24170\n"
          ]
        }
      ]
    },
    {
      "cell_type": "code",
      "source": [
        "# MLP Eval 2\n",
        "@torch.no_grad()\n",
        "def split_loss():\n",
        "  x, y = X, Y\n",
        "  emb = C[x] # (N, block_size, n_embd)\n",
        "  x = emb.view(emb.shape[0], -1) # concat into (N, block_size * n_embd)\n",
        "  for layer in network:\n",
        "    x = layer(x)\n",
        "  loss = F.cross_entropy(x, y)\n",
        "  print(loss.item())\n",
        "\n",
        "for layer in network:\n",
        "  layer.training = False\n",
        "split_loss()"
      ],
      "metadata": {
        "colab": {
          "base_uri": "https://localhost:8080/"
        },
        "id": "xy-fUWEXdIup",
        "outputId": "7f07e4a6-aa7e-4621-dda8-4f49f6ad5dff"
      },
      "execution_count": null,
      "outputs": [
        {
          "output_type": "stream",
          "name": "stdout",
          "text": [
            "5.05037784576416\n",
            "5.05037784576416\n"
          ]
        }
      ]
    },
    {
      "cell_type": "markdown",
      "source": [
        "I get different losses :(."
      ],
      "metadata": {
        "id": "AUF5kV0Fdhf9"
      }
    },
    {
      "cell_type": "markdown",
      "source": [
        "### GPT"
      ],
      "metadata": {
        "id": "E5LWZ72fwLXE"
      }
    },
    {
      "cell_type": "markdown",
      "source": [
        "#### EX2\n",
        "Took surprisingly longer than I thought (3-4 hours of messing around with different ideas until I actually got something that felt reasonable, and then another 2-3 hours of debugging as I realized that it wasn't reasonable at all). Something still feels off, even though the model does learn. I would expect the model to have been able to overfit 1-digit addition quickly, but even after 60K iterations it still only had close-ish answers and loss couldn't quite get past 0.25.\n",
        "\n",
        "I did my best to follow the structure of the code AK used in the video, but I have a cleaner version in gptaddition.py."
      ],
      "metadata": {
        "id": "zn_V3GW9wTEY"
      }
    },
    {
      "cell_type": "code",
      "source": [
        "import torch\n",
        "import torch.nn as nn\n",
        "from torch.nn import functional as F\n",
        "import random\n",
        "\n",
        "# hyperparameters -> convert to dataclass eventually\n",
        "batch_size = 128\n",
        "num_digits = 1\n",
        "block_size = 3*num_digits + 3\n",
        "max_iters = 50000\n",
        "eval_interval = 500\n",
        "learning_rate = 1e-3\n",
        "device = 'cuda' if torch.cuda.is_available() else 'cpu'\n",
        "eval_iters = 20\n",
        "n_embd = 128\n",
        "n_head = 4\n",
        "n_layer = 4\n",
        "dropout = 0.1\n",
        "vocab_size = 0\n",
        "\n",
        "\n",
        "vocab = '0123456789+='\n",
        "vocab_size = len(vocab) + 1\n",
        "stoi = { ch:i for i,ch in enumerate(vocab) }\n",
        "itos = { i:ch for i,ch in enumerate(vocab) }\n",
        "PAD_TOKEN = vocab_size - 1\n",
        "stoi['P'] = PAD_TOKEN\n",
        "itos[PAD_TOKEN] = 'P'\n",
        "encode = lambda s: [stoi[c] for c in s]\n",
        "decode = lambda l: ''.join([itos[i] for i in l])"
      ],
      "metadata": {
        "id": "6tYSE9bZdB5W"
      },
      "execution_count": 13,
      "outputs": []
    },
    {
      "cell_type": "code",
      "source": [
        "# Problem Generation Function\n",
        "def generate_addition_problem(digits=num_digits):\n",
        "  num_1 = random.randint(0, 10**digits -1)\n",
        "  num_2 = random.randint(0, 10**digits -1)\n",
        "\n",
        "  problem = f\"{num_1}+{num_2}=\"\n",
        "  answer = str(num_1+num_2)\n",
        "  if len(answer) < digits + 1:\n",
        "    answer = '0'+answer\n",
        "  return problem, answer[::-1]"
      ],
      "metadata": {
        "id": "_wnM908FdFWO"
      },
      "execution_count": 14,
      "outputs": []
    },
    {
      "cell_type": "code",
      "source": [
        "# Problem Encoding Function\n",
        "def encode_problem(problem, answer, digits=num_digits):\n",
        "  y = [-1] * len(problem)\n",
        "  x = torch.tensor(encode(problem))\n",
        "  y.extend(encode(answer))\n",
        "  y = torch.tensor(y)\n",
        "  return x, y"
      ],
      "metadata": {
        "id": "LGVikeJSdI8E"
      },
      "execution_count": 15,
      "outputs": []
    },
    {
      "cell_type": "code",
      "source": [
        "problem, answer = generate_addition_problem()\n",
        "problem, answer, encode_problem(problem, answer)"
      ],
      "metadata": {
        "colab": {
          "base_uri": "https://localhost:8080/"
        },
        "id": "d34moD1KdR7x",
        "outputId": "cc5c6d06-8f3c-48b1-f91a-8afac796dae9"
      },
      "execution_count": 16,
      "outputs": [
        {
          "output_type": "execute_result",
          "data": {
            "text/plain": [
              "('2+4=', '60', (tensor([ 2, 10,  4, 11]), tensor([-1, -1, -1, -1,  6,  0])))"
            ]
          },
          "metadata": {},
          "execution_count": 16
        }
      ]
    },
    {
      "cell_type": "code",
      "source": [
        "# Get_Batch Function\n",
        "def get_batch():\n",
        "  xs, ys = [], []\n",
        "  for i in range(batch_size):\n",
        "    x, y = encode_problem(*generate_addition_problem())\n",
        "    x = F.pad(x, (0, block_size - len(x)), value=PAD_TOKEN)\n",
        "    y = F.pad(y, (0, block_size - len(y)), value=-1)\n",
        "    assert len(x) == len(y) or len(y) == block_size\n",
        "    xs.append(x)\n",
        "    ys.append(y)\n",
        "  x_stack = torch.stack(xs)\n",
        "  y_stack = torch.stack(ys)\n",
        "  return x_stack.to(device), y_stack.to(device)"
      ],
      "metadata": {
        "id": "8G7VbnbwOoJs"
      },
      "execution_count": 17,
      "outputs": []
    },
    {
      "cell_type": "code",
      "source": [
        "preds, targets = get_batch()"
      ],
      "metadata": {
        "id": "cf4jmJuDkrt_"
      },
      "execution_count": 18,
      "outputs": []
    },
    {
      "cell_type": "code",
      "source": [
        "preds[:5], targets[:5]"
      ],
      "metadata": {
        "colab": {
          "base_uri": "https://localhost:8080/"
        },
        "id": "HJFP5yg_kvQI",
        "outputId": "00d16eeb-f56d-4ddd-9f8e-eca0358dfb27"
      },
      "execution_count": 19,
      "outputs": [
        {
          "output_type": "execute_result",
          "data": {
            "text/plain": [
              "(tensor([[ 1, 10,  8, 11, 12, 12],\n",
              "         [ 1, 10,  7, 11, 12, 12],\n",
              "         [ 9, 10,  7, 11, 12, 12],\n",
              "         [ 5, 10,  7, 11, 12, 12],\n",
              "         [ 8, 10,  8, 11, 12, 12]], device='cuda:0'),\n",
              " tensor([[-1, -1, -1, -1,  9,  0],\n",
              "         [-1, -1, -1, -1,  8,  0],\n",
              "         [-1, -1, -1, -1,  6,  1],\n",
              "         [-1, -1, -1, -1,  2,  1],\n",
              "         [-1, -1, -1, -1,  6,  1]], device='cuda:0'))"
            ]
          },
          "metadata": {},
          "execution_count": 19
        }
      ]
    },
    {
      "cell_type": "code",
      "source": [
        "# Actual Model\n",
        "class Head(nn.Module):\n",
        "    \"\"\" one head of self-attention \"\"\"\n",
        "\n",
        "    def __init__(self, head_size):\n",
        "        super().__init__()\n",
        "        self.key = nn.Linear(n_embd, head_size, bias=False)\n",
        "        self.query = nn.Linear(n_embd, head_size, bias=False)\n",
        "        self.value = nn.Linear(n_embd, head_size, bias=False)\n",
        "        self.register_buffer('tril', torch.tril(torch.ones(block_size, block_size)))\n",
        "\n",
        "        self.dropout = nn.Dropout(dropout)\n",
        "\n",
        "    def forward(self, x):\n",
        "        # input of size (batch, time-step, channels)\n",
        "        # output of size (batch, time-step, head size)\n",
        "        B,T,C = x.shape\n",
        "        k = self.key(x)   # (B,T,hs)\n",
        "        q = self.query(x) # (B,T,hs)\n",
        "        # compute attention scores (\"affinities\")\n",
        "        wei = q @ k.transpose(-2,-1) * k.shape[-1]**-0.5 # (B, T, hs) @ (B, hs, T) -> (B, T, T)\n",
        "        wei = wei.masked_fill(self.tril[:T, :T] == 0, float('-inf')) # (B, T, T)\n",
        "        wei = F.softmax(wei, dim=-1) # (B, T, T)\n",
        "        wei = self.dropout(wei)\n",
        "        # perform the weighted aggregation of the values\n",
        "        v = self.value(x) # (B,T,hs)\n",
        "        out = wei @ v # (B, T, T) @ (B, T, hs) -> (B, T, hs)\n",
        "        return out\n",
        "\n",
        "class MultiHeadAttention(nn.Module):\n",
        "    \"\"\" multiple heads of self-attention in parallel \"\"\"\n",
        "\n",
        "    def __init__(self, num_heads, head_size):\n",
        "        super().__init__()\n",
        "        self.heads = nn.ModuleList([Head(head_size) for _ in range(num_heads)])\n",
        "        self.proj = nn.Linear(head_size * num_heads, n_embd)\n",
        "        self.dropout = nn.Dropout(dropout)\n",
        "\n",
        "    def forward(self, x):\n",
        "        out = torch.cat([h(x) for h in self.heads], dim=-1)\n",
        "        out = self.dropout(self.proj(out))\n",
        "        return out\n",
        "\n",
        "class FeedFoward(nn.Module):\n",
        "    \"\"\" a simple linear layer followed by a non-linearity \"\"\"\n",
        "\n",
        "    def __init__(self, n_embd):\n",
        "        super().__init__()\n",
        "        self.net = nn.Sequential(\n",
        "            nn.Linear(n_embd, 4 * n_embd),\n",
        "            nn.ReLU(),\n",
        "            nn.Linear(4 * n_embd, n_embd),\n",
        "            nn.Dropout(dropout),\n",
        "        )\n",
        "\n",
        "    def forward(self, x):\n",
        "        return self.net(x)\n",
        "\n",
        "class Block(nn.Module):\n",
        "    \"\"\" Transformer block: communication followed by computation \"\"\"\n",
        "\n",
        "    def __init__(self, n_embd, n_head):\n",
        "        # n_embd: embedding dimension, n_head: the number of heads we'd like\n",
        "        super().__init__()\n",
        "        head_size = n_embd // n_head\n",
        "        self.sa = MultiHeadAttention(n_head, head_size)\n",
        "        self.ffwd = FeedFoward(n_embd)\n",
        "        self.ln1 = nn.LayerNorm(n_embd)\n",
        "        self.ln2 = nn.LayerNorm(n_embd)\n",
        "\n",
        "    def forward(self, x):\n",
        "        x = x + self.sa(self.ln1(x))\n",
        "        x = x + self.ffwd(self.ln2(x))\n",
        "        return x\n",
        "\n",
        "class GPTLanguageModel(nn.Module):\n",
        "\n",
        "    def __init__(self):\n",
        "        super().__init__()\n",
        "        # each token directly reads off the logits for the next token from a lookup table\n",
        "        self.token_embedding_table = nn.Embedding(vocab_size, n_embd)\n",
        "        self.position_embedding_table = nn.Embedding(block_size, n_embd)\n",
        "        self.blocks = nn.Sequential(*[Block(n_embd, n_head=n_head) for _ in range(n_layer)])\n",
        "        self.ln_f = nn.LayerNorm(n_embd) # final layer norm\n",
        "        self.lm_head = nn.Linear(n_embd, vocab_size)\n",
        "\n",
        "        # better init, not covered in the original GPT video, but important, will cover in followup video\n",
        "        self.apply(self._init_weights)\n",
        "\n",
        "    def _init_weights(self, module):\n",
        "        if isinstance(module, nn.Linear):\n",
        "            torch.nn.init.normal_(module.weight, mean=0.0, std=0.02)\n",
        "            if module.bias is not None:\n",
        "                torch.nn.init.zeros_(module.bias)\n",
        "        elif isinstance(module, nn.Embedding):\n",
        "            torch.nn.init.normal_(module.weight, mean=0.0, std=0.02)\n",
        "\n",
        "    def forward(self, idx, targets=None):\n",
        "        B, T = idx.shape\n",
        "\n",
        "        # idx and targets are both (B,T) tensor of integers\n",
        "        tok_emb = self.token_embedding_table(idx) # (B,T,C)\n",
        "        pos_emb = self.position_embedding_table(torch.arange(T, device=device)) # (T,C)\n",
        "        x = tok_emb + pos_emb # (B,T,C)\n",
        "        x = self.blocks(x) # (B,T,C)\n",
        "        x = self.ln_f(x) # (B,T,C)\n",
        "        logits = self.lm_head(x) # (B,T,vocab_size)\n",
        "\n",
        "        if targets is None:\n",
        "            loss = None\n",
        "        else:\n",
        "            B, T, C = logits.shape\n",
        "            logits = logits.view(B*T, C)\n",
        "            targets = targets.view(B*T)\n",
        "            loss_fn = nn.CrossEntropyLoss(ignore_index=-1)\n",
        "            loss = loss_fn(logits, targets)\n",
        "\n",
        "        return logits, loss\n",
        "\n",
        "    def generate(self, idx):\n",
        "        # idx is (B, T) array of indices in the current context\n",
        "        for _ in range(block_size):\n",
        "            # crop idx to the last block_size tokens\n",
        "            idx_cond = idx[:, -block_size:]\n",
        "            # get the predictions\n",
        "            logits, loss = self(idx_cond)\n",
        "            # focus only on the last time step\n",
        "            logits = logits[:, -1, :]\n",
        "            # apply softmax to get probabilities\n",
        "            probs = F.softmax(logits, dim=-1) # (B, C)\n",
        "            # sample from the distribution\n",
        "            idx_next = torch.multinomial(probs, num_samples=1) # (B, 1)\n",
        "            # append sampled index to the running sequence\n",
        "            idx = torch.cat((idx, idx_next), dim=1) # (B, T+1)\n",
        "        return idx"
      ],
      "metadata": {
        "id": "KbjHXxM9fzc6"
      },
      "execution_count": 20,
      "outputs": []
    },
    {
      "cell_type": "code",
      "source": [
        "# Test Function\n",
        "def test_generations(model, num_evals = 10):\n",
        "  for i in range(num_evals):\n",
        "    problem, answer = generate_addition_problem()\n",
        "    problem_tensified, _ = encode_problem(problem, answer)\n",
        "    out = model.generate(problem_tensified.unsqueeze(0).to(device))\n",
        "    out = decode([int(x) for x in out[0].tolist()])[len(problem):]\n",
        "    print(f\"Problem: {problem} | Output: {out[:num_digits+1][::-1]}\")"
      ],
      "metadata": {
        "id": "1Ldr1NIiR68-"
      },
      "execution_count": 21,
      "outputs": []
    },
    {
      "cell_type": "code",
      "source": [
        "# Define model\n",
        "model = GPTLanguageModel()\n",
        "m = model.to(device)\n",
        "optimizer = torch.optim.AdamW(model.parameters(), lr = learning_rate)"
      ],
      "metadata": {
        "id": "3KxxDgbLjvp0"
      },
      "execution_count": 22,
      "outputs": []
    },
    {
      "cell_type": "code",
      "source": [
        "# Train Loop -> trained for a total of 110k iterations\n",
        "for iteration in range(max_iters):\n",
        "  if iteration % eval_interval == 0:\n",
        "    model.eval()\n",
        "    losses = []\n",
        "    with torch.no_grad():\n",
        "      for _ in range(eval_iters):\n",
        "        for k in range(eval_iters):\n",
        "            X, Y = get_batch()\n",
        "            logits, loss = model(X, Y)\n",
        "            losses.append(loss.item())\n",
        "    model.train()\n",
        "    mean_loss = torch.mean(torch.tensor(losses))\n",
        "    print(f\"step {iteration}: loss {mean_loss:.4f}\")\n",
        "    xb, yb = get_batch()\n",
        "\n",
        "    # evaluate the loss\n",
        "    logits, loss = model(xb, yb)\n",
        "    optimizer.zero_grad(set_to_none=True)\n",
        "    loss.backward()\n",
        "    optimizer.step()"
      ],
      "metadata": {
        "colab": {
          "base_uri": "https://localhost:8080/"
        },
        "id": "ANY_99MN3wAd",
        "outputId": "75b0d5ae-122d-43f1-c83a-6af2364577b4"
      },
      "execution_count": 27,
      "outputs": [
        {
          "output_type": "stream",
          "name": "stdout",
          "text": [
            "step 0: loss 0.2159\n",
            "step 500: loss 0.2092\n",
            "step 1000: loss 0.2287\n",
            "step 1500: loss 0.2375\n",
            "step 2000: loss 0.2121\n",
            "step 2500: loss 0.2127\n",
            "step 3000: loss 0.2018\n",
            "step 3500: loss 0.2700\n",
            "step 4000: loss 0.2651\n",
            "step 4500: loss 0.1925\n",
            "step 5000: loss 0.1996\n",
            "step 5500: loss 0.2307\n",
            "step 6000: loss 0.2729\n",
            "step 6500: loss 0.2664\n",
            "step 7000: loss 0.2211\n",
            "step 7500: loss 0.2293\n",
            "step 8000: loss 0.1942\n",
            "step 8500: loss 0.1956\n",
            "step 9000: loss 0.2272\n",
            "step 9500: loss 0.2184\n"
          ]
        }
      ]
    },
    {
      "cell_type": "code",
      "source": [
        "test_generations(model)"
      ],
      "metadata": {
        "id": "oaZe2TgqPqTa",
        "colab": {
          "base_uri": "https://localhost:8080/"
        },
        "outputId": "f47a72e2-37a9-490e-b73e-4bb6c1b376e4"
      },
      "execution_count": 28,
      "outputs": [
        {
          "output_type": "stream",
          "name": "stdout",
          "text": [
            "Problem: 7+6= | Output: 41\n",
            "Problem: 8+7= | Output: 41\n",
            "Problem: 9+2= | Output: 11\n",
            "Problem: 4+8= | Output: 21\n",
            "Problem: 3+0= | Output: 40\n",
            "Problem: 1+9= | Output: 00\n",
            "Problem: 1+3= | Output: 40\n",
            "Problem: 2+5= | Output: 70\n",
            "Problem: 2+1= | Output: 30\n",
            "Problem: 8+9= | Output: 80\n"
          ]
        }
      ]
    },
    {
      "cell_type": "markdown",
      "source": [
        "It kinda works?"
      ],
      "metadata": {
        "id": "ugYfW72FUhWv"
      }
    },
    {
      "cell_type": "markdown",
      "source": [
        "#### EX3"
      ],
      "metadata": {
        "id": "6rdCXt4hwTVw"
      }
    },
    {
      "cell_type": "markdown",
      "source": [
        "#### EX4"
      ],
      "metadata": {
        "id": "0GsyP7iOs8m9"
      }
    }
  ]
}